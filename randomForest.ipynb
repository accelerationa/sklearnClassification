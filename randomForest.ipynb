{
 "cells": [
  {
   "cell_type": "code",
   "execution_count": 1,
   "metadata": {
    "scrolled": true,
    "slideshow": {
     "slide_type": "-"
    },
    "tags": [
     "sdf"
    ]
   },
   "outputs": [
    {
     "data": {
      "text/html": [
       "<div>\n",
       "<style scoped>\n",
       "    .dataframe tbody tr th:only-of-type {\n",
       "        vertical-align: middle;\n",
       "    }\n",
       "\n",
       "    .dataframe tbody tr th {\n",
       "        vertical-align: top;\n",
       "    }\n",
       "\n",
       "    .dataframe thead th {\n",
       "        text-align: right;\n",
       "    }\n",
       "</style>\n",
       "<table border=\"1\" class=\"dataframe\">\n",
       "  <thead>\n",
       "    <tr style=\"text-align: right;\">\n",
       "      <th></th>\n",
       "      <th>age</th>\n",
       "      <th>job</th>\n",
       "      <th>marital</th>\n",
       "      <th>education</th>\n",
       "      <th>default</th>\n",
       "      <th>balance</th>\n",
       "      <th>housing</th>\n",
       "      <th>loan</th>\n",
       "      <th>contact</th>\n",
       "      <th>day</th>\n",
       "      <th>month</th>\n",
       "      <th>duration</th>\n",
       "      <th>campaign</th>\n",
       "      <th>pdays</th>\n",
       "      <th>previous</th>\n",
       "      <th>poutcome</th>\n",
       "      <th>y</th>\n",
       "    </tr>\n",
       "  </thead>\n",
       "  <tbody>\n",
       "    <tr>\n",
       "      <th>0</th>\n",
       "      <td>30</td>\n",
       "      <td>unemployed</td>\n",
       "      <td>married</td>\n",
       "      <td>primary</td>\n",
       "      <td>no</td>\n",
       "      <td>1787</td>\n",
       "      <td>no</td>\n",
       "      <td>no</td>\n",
       "      <td>cellular</td>\n",
       "      <td>19</td>\n",
       "      <td>oct</td>\n",
       "      <td>79</td>\n",
       "      <td>1</td>\n",
       "      <td>-1</td>\n",
       "      <td>0</td>\n",
       "      <td>unknown</td>\n",
       "      <td>no</td>\n",
       "    </tr>\n",
       "    <tr>\n",
       "      <th>1</th>\n",
       "      <td>33</td>\n",
       "      <td>services</td>\n",
       "      <td>married</td>\n",
       "      <td>secondary</td>\n",
       "      <td>no</td>\n",
       "      <td>4789</td>\n",
       "      <td>yes</td>\n",
       "      <td>yes</td>\n",
       "      <td>cellular</td>\n",
       "      <td>11</td>\n",
       "      <td>may</td>\n",
       "      <td>220</td>\n",
       "      <td>1</td>\n",
       "      <td>339</td>\n",
       "      <td>4</td>\n",
       "      <td>failure</td>\n",
       "      <td>no</td>\n",
       "    </tr>\n",
       "    <tr>\n",
       "      <th>2</th>\n",
       "      <td>35</td>\n",
       "      <td>management</td>\n",
       "      <td>single</td>\n",
       "      <td>tertiary</td>\n",
       "      <td>no</td>\n",
       "      <td>1350</td>\n",
       "      <td>yes</td>\n",
       "      <td>no</td>\n",
       "      <td>cellular</td>\n",
       "      <td>16</td>\n",
       "      <td>apr</td>\n",
       "      <td>185</td>\n",
       "      <td>1</td>\n",
       "      <td>330</td>\n",
       "      <td>1</td>\n",
       "      <td>failure</td>\n",
       "      <td>no</td>\n",
       "    </tr>\n",
       "    <tr>\n",
       "      <th>3</th>\n",
       "      <td>30</td>\n",
       "      <td>management</td>\n",
       "      <td>married</td>\n",
       "      <td>tertiary</td>\n",
       "      <td>no</td>\n",
       "      <td>1476</td>\n",
       "      <td>yes</td>\n",
       "      <td>yes</td>\n",
       "      <td>unknown</td>\n",
       "      <td>3</td>\n",
       "      <td>jun</td>\n",
       "      <td>199</td>\n",
       "      <td>4</td>\n",
       "      <td>-1</td>\n",
       "      <td>0</td>\n",
       "      <td>unknown</td>\n",
       "      <td>no</td>\n",
       "    </tr>\n",
       "    <tr>\n",
       "      <th>4</th>\n",
       "      <td>59</td>\n",
       "      <td>blue-collar</td>\n",
       "      <td>married</td>\n",
       "      <td>secondary</td>\n",
       "      <td>no</td>\n",
       "      <td>0</td>\n",
       "      <td>yes</td>\n",
       "      <td>no</td>\n",
       "      <td>unknown</td>\n",
       "      <td>5</td>\n",
       "      <td>may</td>\n",
       "      <td>226</td>\n",
       "      <td>1</td>\n",
       "      <td>-1</td>\n",
       "      <td>0</td>\n",
       "      <td>unknown</td>\n",
       "      <td>no</td>\n",
       "    </tr>\n",
       "  </tbody>\n",
       "</table>\n",
       "</div>"
      ],
      "text/plain": [
       "   age          job  marital  education default  balance housing loan  \\\n",
       "0   30   unemployed  married    primary      no     1787      no   no   \n",
       "1   33     services  married  secondary      no     4789     yes  yes   \n",
       "2   35   management   single   tertiary      no     1350     yes   no   \n",
       "3   30   management  married   tertiary      no     1476     yes  yes   \n",
       "4   59  blue-collar  married  secondary      no        0     yes   no   \n",
       "\n",
       "    contact  day month  duration  campaign  pdays  previous poutcome   y  \n",
       "0  cellular   19   oct        79         1     -1         0  unknown  no  \n",
       "1  cellular   11   may       220         1    339         4  failure  no  \n",
       "2  cellular   16   apr       185         1    330         1  failure  no  \n",
       "3   unknown    3   jun       199         4     -1         0  unknown  no  \n",
       "4   unknown    5   may       226         1     -1         0  unknown  no  "
      ]
     },
     "execution_count": 1,
     "metadata": {},
     "output_type": "execute_result"
    }
   ],
   "source": [
    "import pandas as pd\n",
    "from pandas import DataFrame\n",
    "\n",
    "df = pd.read_excel('bank.xlsx', index_col=0).reset_index()\n",
    "\n",
    "df.head()"
   ]
  },
  {
   "cell_type": "code",
   "execution_count": 2,
   "metadata": {},
   "outputs": [],
   "source": [
    "from sklearn import preprocessing\n",
    "from collections import defaultdict\n",
    "\n",
    "d = defaultdict(preprocessing.LabelEncoder)\n",
    "\n",
    "\n",
    "# Encoding the categorical variable\n",
    "fit = df.select_dtypes(include=['object']).fillna('NA').apply(lambda x: d[x.name].fit_transform(x))\n",
    "\n",
    "#Convert the categorical columns based on encoding\n",
    "for i in list(d.keys()):\n",
    "    df[i] = d[i].transform(df[i].fillna('NA'))"
   ]
  },
  {
   "cell_type": "code",
   "execution_count": 3,
   "metadata": {},
   "outputs": [],
   "source": [
    "from sklearn.model_selection import train_test_split\n",
    "\n",
    "features = list(df.columns.values)\n",
    "features.remove('y')\n",
    "\n",
    "label = list('y')\n",
    "\n",
    "X = df[features]\n",
    "Y = df[label]\n",
    "\n",
    "X_train, X_test, y_train, y_test = train_test_split(X, Y, test_size=0.3) # 70% training and 30% test\n"
   ]
  },
  {
   "cell_type": "code",
   "execution_count": 4,
   "metadata": {},
   "outputs": [],
   "source": [
    "def plot_confusion_matrix(labels, preds):\n",
    "    from sklearn.metrics import confusion_matrix\n",
    "    import seaborn as sns\n",
    "    import matplotlib.pyplot as plt     \n",
    "    \n",
    "    \n",
    "    print(\"Confusion matrix: \\n\", confusion_matrix(y_test, preds))\n",
    "    \n",
    "\n",
    "    ax= plt.subplot()\n",
    "    sns.heatmap(confusion_matrix(labels, preds), annot=True, ax = ax); #annot=True to annotate cells\n",
    "\n",
    "    ax.set_xlabel('Predicted labels');ax.set_ylabel('True labels'); \n",
    "    ax.set_title('Confusion Matrix'); \n",
    "\n",
    "    "
   ]
  },
  {
   "cell_type": "code",
   "execution_count": null,
   "metadata": {},
   "outputs": [],
   "source": []
  },
  {
   "cell_type": "code",
   "execution_count": null,
   "metadata": {},
   "outputs": [],
   "source": []
  },
  {
   "cell_type": "code",
   "execution_count": null,
   "metadata": {},
   "outputs": [],
   "source": []
  },
  {
   "cell_type": "code",
   "execution_count": null,
   "metadata": {},
   "outputs": [],
   "source": []
  },
  {
   "cell_type": "code",
   "execution_count": null,
   "metadata": {},
   "outputs": [],
   "source": [
    "\n",
    "\n"
   ]
  },
  {
   "cell_type": "code",
   "execution_count": null,
   "metadata": {},
   "outputs": [],
   "source": [
    "\n"
   ]
  },
  {
   "cell_type": "code",
   "execution_count": 5,
   "metadata": {},
   "outputs": [],
   "source": [
    "results = {}"
   ]
  },
  {
   "cell_type": "code",
   "execution_count": 6,
   "metadata": {},
   "outputs": [
    {
     "name": "stderr",
     "output_type": "stream",
     "text": [
      "/Users/yongco/.pyenv/versions/3.6.8/lib/python3.6/site-packages/ipykernel_launcher.py:12: DataConversionWarning: A column-vector y was passed when a 1d array was expected. Please change the shape of y to (n_samples,), for example using ravel().\n",
      "  if sys.path[0] == '':\n"
     ]
    }
   ],
   "source": [
    "from sklearn.ensemble import RandomForestClassifier\n",
    "from sklearn.metrics import accuracy_score\n",
    "from sklearn.metrics import confusion_matrix\n",
    "\n",
    "\n",
    "\n",
    "#Create a Gaussian Classifier\n",
    "clf=RandomForestClassifier(n_estimators=10)\n",
    "\n",
    "\n",
    "#Train the model using the training sets y_pred=clf.predict(X_test)\n",
    "clf.fit(X_train,y_train)\n",
    "\n",
    "preds_test = clf.predict(X_test)\n",
    "proba_test = clf.predict_proba(X_test)\n",
    "\n",
    "preds_train = clf.predict(X_train)\n",
    "proba_train = clf.predict_proba(X_train)\n",
    "\n",
    "results['RF-100 estimators'] = {\n",
    "    'test': {\n",
    "        'pred': preds_test,\n",
    "        'label': y_test,\n",
    "        'proba': proba_test\n",
    "    },\n",
    "    'train': {\n",
    "        'pred': preds_train,\n",
    "        'label': y_train,\n",
    "        'proba': proba_train\n",
    "    }\n",
    "}"
   ]
  },
  {
   "cell_type": "code",
   "execution_count": 7,
   "metadata": {},
   "outputs": [
    {
     "name": "stderr",
     "output_type": "stream",
     "text": [
      "/Users/yongco/.pyenv/versions/3.6.8/lib/python3.6/site-packages/ipykernel_launcher.py:12: DataConversionWarning: A column-vector y was passed when a 1d array was expected. Please change the shape of y to (n_samples,), for example using ravel().\n",
      "  if sys.path[0] == '':\n"
     ]
    }
   ],
   "source": [
    "from sklearn.ensemble import RandomForestClassifier\n",
    "from sklearn.metrics import accuracy_score\n",
    "from sklearn.metrics import confusion_matrix\n",
    "\n",
    "\n",
    "\n",
    "#Create a Gaussian Classifier\n",
    "clf=RandomForestClassifier(n_estimators=10)\n",
    "\n",
    "\n",
    "#Train the model using the training sets y_pred=clf.predict(X_test)\n",
    "clf.fit(X_train,y_train)\n",
    "\n",
    "preds_test = clf.predict(X_test)\n",
    "proba_test = clf.predict_proba(X_test)\n",
    "\n",
    "preds_train = clf.predict(X_train)\n",
    "proba_train = clf.predict_proba(X_train)\n",
    "\n",
    "results['RF-10 estimators'] = {\n",
    "    'test': {\n",
    "        'pred': preds_test,\n",
    "        'label': y_test,\n",
    "        'proba': proba_test\n",
    "    },\n",
    "    'train': {\n",
    "        'pred': preds_train,\n",
    "        'label': y_train,\n",
    "        'proba': proba_train\n",
    "    }\n",
    "}"
   ]
  },
  {
   "cell_type": "code",
   "execution_count": 8,
   "metadata": {},
   "outputs": [
    {
     "name": "stderr",
     "output_type": "stream",
     "text": [
      "/Users/yongco/.pyenv/versions/3.6.8/lib/python3.6/site-packages/ipykernel_launcher.py:12: DataConversionWarning: A column-vector y was passed when a 1d array was expected. Please change the shape of y to (n_samples,), for example using ravel().\n",
      "  if sys.path[0] == '':\n"
     ]
    }
   ],
   "source": [
    "from sklearn.ensemble import RandomForestClassifier\n",
    "from sklearn.metrics import accuracy_score\n",
    "from sklearn.metrics import confusion_matrix\n",
    "\n",
    "\n",
    "\n",
    "#Create a Gaussian Classifier\n",
    "clf=RandomForestClassifier(n_estimators=10)\n",
    "\n",
    "\n",
    "#Train the model using the training sets y_pred=clf.predict(X_test)\n",
    "clf.fit(X_train,y_train)\n",
    "\n",
    "preds_test = clf.predict(X_test)\n",
    "proba_test = clf.predict_proba(X_test)\n",
    "\n",
    "preds_train = clf.predict(X_train)\n",
    "proba_train = clf.predict_proba(X_train)\n",
    "\n",
    "results['RF-10 estimators'] = {\n",
    "    'test': {\n",
    "        'pred': preds_test,\n",
    "        'label': y_test,\n",
    "        'proba': proba_test\n",
    "    },\n",
    "    'train': {\n",
    "        'pred': preds_train,\n",
    "        'label': y_train,\n",
    "        'proba': proba_train\n",
    "    }\n",
    "}"
   ]
  },
  {
   "cell_type": "code",
   "execution_count": 9,
   "metadata": {},
   "outputs": [
    {
     "name": "stderr",
     "output_type": "stream",
     "text": [
      "/Users/yongco/.pyenv/versions/3.6.8/lib/python3.6/site-packages/ipykernel_launcher.py:22: DataConversionWarning: A column-vector y was passed when a 1d array was expected. Please change the shape of y to (n_samples,), for example using ravel().\n"
     ]
    }
   ],
   "source": [
    "from sklearn.model_selection import train_test_split\n",
    "\n",
    "label = list('y')\n",
    "\n",
    "X = df[['duration']]\n",
    "\n",
    "Y = df[label]\n",
    "\n",
    "X_train, X_test, y_train, y_test = train_test_split(X, Y, test_size=0.3) # 70% training and 30% test\n",
    "\n",
    "from sklearn.ensemble import RandomForestClassifier\n",
    "from sklearn.metrics import accuracy_score\n",
    "from sklearn.metrics import confusion_matrix\n",
    "\n",
    "\n",
    "\n",
    "#Create a Gaussian Classifier\n",
    "clf=RandomForestClassifier(n_estimators=10)\n",
    "\n",
    "\n",
    "#Train the model using the training sets y_pred=clf.predict(X_test)\n",
    "clf.fit(X_train,y_train)\n",
    "\n",
    "preds_test = clf.predict(X_test)\n",
    "proba_test = clf.predict_proba(X_test)\n",
    "\n",
    "preds_train = clf.predict(X_train)\n",
    "proba_train = clf.predict_proba(X_train)\n",
    "\n",
    "results['RF-100 estimators 1 feature'] = {\n",
    "    'test': {\n",
    "        'pred': preds_test,\n",
    "        'label': y_test,\n",
    "        'proba': proba_test\n",
    "    },\n",
    "    'train': {\n",
    "        'pred': preds_train,\n",
    "        'label': y_train,\n",
    "        'proba': proba_train\n",
    "    }\n",
    "}"
   ]
  },
  {
   "cell_type": "code",
   "execution_count": 10,
   "metadata": {},
   "outputs": [
    {
     "name": "stderr",
     "output_type": "stream",
     "text": [
      "/Users/yongco/.pyenv/versions/3.6.8/lib/python3.6/site-packages/ipykernel_launcher.py:22: DataConversionWarning: A column-vector y was passed when a 1d array was expected. Please change the shape of y to (n_samples,), for example using ravel().\n"
     ]
    }
   ],
   "source": [
    "from sklearn.model_selection import train_test_split\n",
    "\n",
    "label = list('y')\n",
    "\n",
    "X = df[['duration', 'balance', 'age']]\n",
    "\n",
    "Y = df[label]\n",
    "\n",
    "X_train, X_test, y_train, y_test = train_test_split(X, Y, test_size=0.3) # 70% training and 30% test\n",
    "\n",
    "from sklearn.ensemble import RandomForestClassifier\n",
    "from sklearn.metrics import accuracy_score\n",
    "from sklearn.metrics import confusion_matrix\n",
    "\n",
    "\n",
    "\n",
    "#Create a Gaussian Classifier\n",
    "clf=RandomForestClassifier(n_estimators=10)\n",
    "\n",
    "\n",
    "#Train the model using the training sets y_pred=clf.predict(X_test)\n",
    "clf.fit(X_train,y_train)\n",
    "\n",
    "preds_test = clf.predict(X_test)\n",
    "proba_test = clf.predict_proba(X_test)\n",
    "\n",
    "preds_train = clf.predict(X_train)\n",
    "proba_train = clf.predict_proba(X_train)\n",
    "\n",
    "results['RF-100 estimators 3 feature'] = {\n",
    "    'test': {\n",
    "        'pred': preds_test,\n",
    "        'label': y_test,\n",
    "        'proba': proba_test\n",
    "    },\n",
    "    'train': {\n",
    "        'pred': preds_train,\n",
    "        'label': y_train,\n",
    "        'proba': proba_train\n",
    "    }\n",
    "}"
   ]
  },
  {
   "cell_type": "code",
   "execution_count": 11,
   "metadata": {},
   "outputs": [
    {
     "name": "stderr",
     "output_type": "stream",
     "text": [
      "/Users/yongco/.pyenv/versions/3.6.8/lib/python3.6/site-packages/ipykernel_launcher.py:22: DataConversionWarning: A column-vector y was passed when a 1d array was expected. Please change the shape of y to (n_samples,), for example using ravel().\n"
     ]
    }
   ],
   "source": [
    "from sklearn.model_selection import train_test_split\n",
    "\n",
    "label = list('y')\n",
    "\n",
    "X = df[['duration', 'balance', 'age', 'day', 'month']]\n",
    "\n",
    "Y = df[label]\n",
    "\n",
    "X_train, X_test, y_train, y_test = train_test_split(X, Y, test_size=0.3) # 70% training and 30% test\n",
    "\n",
    "from sklearn.ensemble import RandomForestClassifier\n",
    "from sklearn.metrics import accuracy_score\n",
    "from sklearn.metrics import confusion_matrix\n",
    "\n",
    "\n",
    "\n",
    "#Create a Gaussian Classifier\n",
    "clf=RandomForestClassifier(n_estimators=10)\n",
    "\n",
    "\n",
    "#Train the model using the training sets y_pred=clf.predict(X_test)\n",
    "clf.fit(X_train,y_train)\n",
    "\n",
    "preds_test = clf.predict(X_test)\n",
    "proba_test = clf.predict_proba(X_test)\n",
    "\n",
    "preds_train = clf.predict(X_train)\n",
    "proba_train = clf.predict_proba(X_train)\n",
    "\n",
    "results['RF-100 estimators 5 feature'] = {\n",
    "    'test': {\n",
    "        'pred': preds_test,\n",
    "        'label': y_test,\n",
    "        'proba': proba_test\n",
    "    },\n",
    "    'train': {\n",
    "        'pred': preds_train,\n",
    "        'label': y_train,\n",
    "        'proba': proba_train\n",
    "    }\n",
    "}"
   ]
  },
  {
   "cell_type": "code",
   "execution_count": 12,
   "metadata": {},
   "outputs": [
    {
     "name": "stderr",
     "output_type": "stream",
     "text": [
      "/Users/yongco/.pyenv/versions/3.6.8/lib/python3.6/site-packages/ipykernel_launcher.py:27: DataConversionWarning: A column-vector y was passed when a 1d array was expected. Please change the shape of y to (n_samples,), for example using ravel().\n"
     ]
    }
   ],
   "source": [
    "from sklearn.model_selection import train_test_split\n",
    "\n",
    "features = list(df.columns.values)\n",
    "features.remove('education')\n",
    "features.remove('y')\n",
    "features.remove('default')\n",
    "\n",
    "label = list('y')\n",
    "\n",
    "\n",
    "X = df[features]\n",
    "Y = df[label]\n",
    "\n",
    "X_train, X_test, y_train, y_test = train_test_split(X, Y, test_size=0.3) # 70% training and 30% test\n",
    "\n",
    "from sklearn.ensemble import RandomForestClassifier\n",
    "from sklearn.metrics import accuracy_score\n",
    "from sklearn.metrics import confusion_matrix\n",
    "\n",
    "\n",
    "\n",
    "#Create a Gaussian Classifier\n",
    "clf=RandomForestClassifier(n_estimators=10)\n",
    "\n",
    "\n",
    "#Train the model using the training sets y_pred=clf.predict(X_test)\n",
    "clf.fit(X_train,y_train)\n",
    "\n",
    "preds_test = clf.predict(X_test)\n",
    "proba_test = clf.predict_proba(X_test)\n",
    "\n",
    "preds_train = clf.predict(X_train)\n",
    "proba_train = clf.predict_proba(X_train)\n",
    "\n",
    "results['RF-100 estimators 14 feature'] = {\n",
    "    'test': {\n",
    "        'pred': preds_test,\n",
    "        'label': y_test,\n",
    "        'proba': proba_test\n",
    "    },\n",
    "    'train': {\n",
    "        'pred': preds_train,\n",
    "        'label': y_train,\n",
    "        'proba': proba_train\n",
    "    }\n",
    "}"
   ]
  },
  {
   "cell_type": "code",
   "execution_count": null,
   "metadata": {},
   "outputs": [],
   "source": []
  },
  {
   "cell_type": "code",
   "execution_count": null,
   "metadata": {},
   "outputs": [],
   "source": []
  },
  {
   "cell_type": "code",
   "execution_count": null,
   "metadata": {},
   "outputs": [],
   "source": []
  },
  {
   "cell_type": "code",
   "execution_count": 13,
   "metadata": {},
   "outputs": [
    {
     "name": "stderr",
     "output_type": "stream",
     "text": [
      "[Parallel(n_jobs=1)]: Using backend SequentialBackend with 1 concurrent workers.\n",
      "[Parallel(n_jobs=1)]: Done   1 out of   1 | elapsed:    0.1s remaining:    0.0s\n"
     ]
    },
    {
     "name": "stdout",
     "output_type": "stream",
     "text": [
      "Fitting 3 folds for each of 6 candidates, totalling 18 fits\n",
      "[CV] bootstrap=True, n_estimators=10 .................................\n",
      "[CV] ..... bootstrap=True, n_estimators=10, score=0.369, total=   0.1s\n",
      "[CV] bootstrap=True, n_estimators=10 .................................\n",
      "[CV] ..... bootstrap=True, n_estimators=10, score=0.363, total=   0.0s\n",
      "[CV] bootstrap=True, n_estimators=10 .................................\n",
      "[CV] ..... bootstrap=True, n_estimators=10, score=0.306, total=   0.0s\n",
      "[CV] bootstrap=True, n_estimators=20 .................................\n"
     ]
    },
    {
     "name": "stderr",
     "output_type": "stream",
     "text": [
      "[Parallel(n_jobs=1)]: Done   2 out of   2 | elapsed:    0.1s remaining:    0.0s\n",
      "[Parallel(n_jobs=1)]: Done   3 out of   3 | elapsed:    0.2s remaining:    0.0s\n",
      "[Parallel(n_jobs=1)]: Done   4 out of   4 | elapsed:    0.3s remaining:    0.0s\n"
     ]
    },
    {
     "name": "stdout",
     "output_type": "stream",
     "text": [
      "[CV] ..... bootstrap=True, n_estimators=20, score=0.357, total=   0.1s\n",
      "[CV] bootstrap=True, n_estimators=20 .................................\n",
      "[CV] ..... bootstrap=True, n_estimators=20, score=0.318, total=   0.1s\n",
      "[CV] bootstrap=True, n_estimators=20 .................................\n",
      "[CV] ..... bootstrap=True, n_estimators=20, score=0.354, total=   0.1s\n",
      "[CV] bootstrap=True, n_estimators=30 .................................\n"
     ]
    },
    {
     "name": "stderr",
     "output_type": "stream",
     "text": [
      "[Parallel(n_jobs=1)]: Done   5 out of   5 | elapsed:    0.4s remaining:    0.0s\n",
      "[Parallel(n_jobs=1)]: Done   6 out of   6 | elapsed:    0.5s remaining:    0.0s\n",
      "[Parallel(n_jobs=1)]: Done   7 out of   7 | elapsed:    0.6s remaining:    0.0s\n"
     ]
    },
    {
     "name": "stdout",
     "output_type": "stream",
     "text": [
      "[CV] ..... bootstrap=True, n_estimators=30, score=0.384, total=   0.1s\n",
      "[CV] bootstrap=True, n_estimators=30 .................................\n",
      "[CV] ..... bootstrap=True, n_estimators=30, score=0.348, total=   0.1s\n",
      "[CV] bootstrap=True, n_estimators=30 .................................\n",
      "[CV] ..... bootstrap=True, n_estimators=30, score=0.349, total=   0.1s\n",
      "[CV] bootstrap=False, n_estimators=10 ................................\n"
     ]
    },
    {
     "name": "stderr",
     "output_type": "stream",
     "text": [
      "[Parallel(n_jobs=1)]: Done   8 out of   8 | elapsed:    0.7s remaining:    0.0s\n",
      "[Parallel(n_jobs=1)]: Done   9 out of   9 | elapsed:    0.8s remaining:    0.0s\n"
     ]
    },
    {
     "name": "stdout",
     "output_type": "stream",
     "text": [
      "[CV] .... bootstrap=False, n_estimators=10, score=0.432, total=   0.0s\n",
      "[CV] bootstrap=False, n_estimators=10 ................................\n",
      "[CV] .... bootstrap=False, n_estimators=10, score=0.375, total=   0.0s\n",
      "[CV] bootstrap=False, n_estimators=10 ................................\n",
      "[CV] .... bootstrap=False, n_estimators=10, score=0.368, total=   0.0s\n",
      "[CV] bootstrap=False, n_estimators=20 ................................\n",
      "[CV] .... bootstrap=False, n_estimators=20, score=0.342, total=   0.1s\n",
      "[CV] bootstrap=False, n_estimators=20 ................................\n",
      "[CV] .... bootstrap=False, n_estimators=20, score=0.364, total=   0.1s\n",
      "[CV] bootstrap=False, n_estimators=20 ................................\n",
      "[CV] .... bootstrap=False, n_estimators=20, score=0.470, total=   0.1s\n",
      "[CV] bootstrap=False, n_estimators=30 ................................\n",
      "[CV] .... bootstrap=False, n_estimators=30, score=0.365, total=   0.1s\n",
      "[CV] bootstrap=False, n_estimators=30 ................................\n",
      "[CV] .... bootstrap=False, n_estimators=30, score=0.404, total=   0.1s\n",
      "[CV] bootstrap=False, n_estimators=30 ................................\n",
      "[CV] .... bootstrap=False, n_estimators=30, score=0.392, total=   0.2s\n"
     ]
    },
    {
     "name": "stderr",
     "output_type": "stream",
     "text": [
      "[Parallel(n_jobs=1)]: Done  18 out of  18 | elapsed:    1.7s finished\n"
     ]
    }
   ],
   "source": [
    "from sklearn.ensemble import RandomForestClassifier\n",
    "from sklearn.metrics import accuracy_score\n",
    "from sklearn.metrics import confusion_matrix\n",
    "from sklearn.model_selection import RandomizedSearchCV\n",
    "from sklearn.model_selection import GridSearchCV\n",
    "\n",
    "from sklearn.metrics import f1_score, make_scorer\n",
    "import numpy as np\n",
    "\n",
    "import warnings\n",
    "warnings.filterwarnings('ignore')\n",
    "\n",
    "param_grid = {'n_estimators': [10, 20, 30],\n",
    "               'bootstrap': [True, False]}\n",
    "\n",
    "gridSearch = GridSearchCV(clf, param_grid, cv=3, scoring=make_scorer(f1_score), verbose=10)\n",
    "# gridSearch = GridSearchCV(clf, param_grid, cv=3, verbose=0)\n",
    "\n",
    "scores = gridSearch.fit(X, Y)"
   ]
  },
  {
   "cell_type": "code",
   "execution_count": 14,
   "metadata": {},
   "outputs": [
    {
     "name": "stdout",
     "output_type": "stream",
     "text": [
      "Fitting 3 folds for each of 6 candidates, totalling 18 fits\n",
      "[CV] n_estimators=10, bootstrap=True .................................\n",
      "[CV] ..... n_estimators=10, bootstrap=True, score=0.317, total=   0.0s\n",
      "[CV] n_estimators=10, bootstrap=True .................................\n",
      "[CV] ..... n_estimators=10, bootstrap=True, score=0.336, total=   0.0s\n",
      "[CV] n_estimators=10, bootstrap=True .................................\n"
     ]
    },
    {
     "name": "stderr",
     "output_type": "stream",
     "text": [
      "[Parallel(n_jobs=1)]: Using backend SequentialBackend with 1 concurrent workers.\n",
      "[Parallel(n_jobs=1)]: Done   1 out of   1 | elapsed:    0.0s remaining:    0.0s\n",
      "[Parallel(n_jobs=1)]: Done   2 out of   2 | elapsed:    0.1s remaining:    0.0s\n"
     ]
    },
    {
     "name": "stdout",
     "output_type": "stream",
     "text": [
      "[CV] ..... n_estimators=10, bootstrap=True, score=0.373, total=   0.0s\n",
      "[CV] n_estimators=20, bootstrap=True .................................\n",
      "[CV] ..... n_estimators=20, bootstrap=True, score=0.359, total=   0.1s\n",
      "[CV] n_estimators=20, bootstrap=True .................................\n"
     ]
    },
    {
     "name": "stderr",
     "output_type": "stream",
     "text": [
      "[Parallel(n_jobs=1)]: Done   3 out of   3 | elapsed:    0.1s remaining:    0.0s\n",
      "[Parallel(n_jobs=1)]: Done   4 out of   4 | elapsed:    0.2s remaining:    0.0s\n"
     ]
    },
    {
     "name": "stdout",
     "output_type": "stream",
     "text": [
      "[CV] ..... n_estimators=20, bootstrap=True, score=0.349, total=   0.1s\n",
      "[CV] n_estimators=20, bootstrap=True .................................\n"
     ]
    },
    {
     "name": "stderr",
     "output_type": "stream",
     "text": [
      "[Parallel(n_jobs=1)]: Done   5 out of   5 | elapsed:    0.3s remaining:    0.0s\n"
     ]
    },
    {
     "name": "stdout",
     "output_type": "stream",
     "text": [
      "[CV] ..... n_estimators=20, bootstrap=True, score=0.375, total=   0.1s\n",
      "[CV] n_estimators=30, bootstrap=True .................................\n",
      "[CV] ..... n_estimators=30, bootstrap=True, score=0.307, total=   0.1s\n",
      "[CV] n_estimators=30, bootstrap=True .................................\n"
     ]
    },
    {
     "name": "stderr",
     "output_type": "stream",
     "text": [
      "[Parallel(n_jobs=1)]: Done   6 out of   6 | elapsed:    0.3s remaining:    0.0s\n",
      "[Parallel(n_jobs=1)]: Done   7 out of   7 | elapsed:    0.5s remaining:    0.0s\n"
     ]
    },
    {
     "name": "stdout",
     "output_type": "stream",
     "text": [
      "[CV] ..... n_estimators=30, bootstrap=True, score=0.351, total=   0.1s\n",
      "[CV] n_estimators=30, bootstrap=True .................................\n",
      "[CV] ..... n_estimators=30, bootstrap=True, score=0.371, total=   0.1s\n",
      "[CV] n_estimators=10, bootstrap=False ................................\n",
      "[CV] .... n_estimators=10, bootstrap=False, score=0.381, total=   0.0s\n",
      "[CV] n_estimators=10, bootstrap=False ................................\n",
      "[CV] .... n_estimators=10, bootstrap=False, score=0.355, total=   0.0s\n",
      "[CV] n_estimators=10, bootstrap=False ................................\n"
     ]
    },
    {
     "name": "stderr",
     "output_type": "stream",
     "text": [
      "[Parallel(n_jobs=1)]: Done   8 out of   8 | elapsed:    0.6s remaining:    0.0s\n",
      "[Parallel(n_jobs=1)]: Done   9 out of   9 | elapsed:    0.7s remaining:    0.0s\n"
     ]
    },
    {
     "name": "stdout",
     "output_type": "stream",
     "text": [
      "[CV] .... n_estimators=10, bootstrap=False, score=0.318, total=   0.0s\n",
      "[CV] n_estimators=20, bootstrap=False ................................\n",
      "[CV] .... n_estimators=20, bootstrap=False, score=0.357, total=   0.1s\n",
      "[CV] n_estimators=20, bootstrap=False ................................\n",
      "[CV] .... n_estimators=20, bootstrap=False, score=0.377, total=   0.1s\n",
      "[CV] n_estimators=20, bootstrap=False ................................\n",
      "[CV] .... n_estimators=20, bootstrap=False, score=0.408, total=   0.1s\n",
      "[CV] n_estimators=30, bootstrap=False ................................\n",
      "[CV] .... n_estimators=30, bootstrap=False, score=0.374, total=   0.1s\n",
      "[CV] n_estimators=30, bootstrap=False ................................\n",
      "[CV] .... n_estimators=30, bootstrap=False, score=0.391, total=   0.1s\n",
      "[CV] n_estimators=30, bootstrap=False ................................\n",
      "[CV] .... n_estimators=30, bootstrap=False, score=0.382, total=   0.1s\n"
     ]
    },
    {
     "name": "stderr",
     "output_type": "stream",
     "text": [
      "[Parallel(n_jobs=1)]: Done  18 out of  18 | elapsed:    1.5s finished\n"
     ]
    }
   ],
   "source": [
    "from sklearn.ensemble import RandomForestClassifier\n",
    "from sklearn.metrics import accuracy_score\n",
    "from sklearn.metrics import confusion_matrix\n",
    "from sklearn.model_selection import RandomizedSearchCV\n",
    "from sklearn.model_selection import GridSearchCV\n",
    "\n",
    "from sklearn.metrics import f1_score, make_scorer\n",
    "import numpy as np\n",
    "\n",
    "import warnings\n",
    "warnings.filterwarnings('ignore')\n",
    "\n",
    "param_grid = {'n_estimators': [10, 20, 30],\n",
    "               'bootstrap': [True, False]}\n",
    "\n",
    "gridSearch = RandomizedSearchCV(clf, param_grid, cv=3, scoring=make_scorer(f1_score), verbose=10)\n",
    "# gridSearch = GridSearchCV(clf, param_grid, cv=3, verbose=0)\n",
    "\n",
    "scores = gridSearch.fit(X, Y)"
   ]
  },
  {
   "cell_type": "code",
   "execution_count": null,
   "metadata": {},
   "outputs": [],
   "source": []
  },
  {
   "cell_type": "code",
   "execution_count": null,
   "metadata": {},
   "outputs": [],
   "source": []
  },
  {
   "cell_type": "code",
   "execution_count": null,
   "metadata": {},
   "outputs": [],
   "source": []
  },
  {
   "cell_type": "code",
   "execution_count": 15,
   "metadata": {},
   "outputs": [
    {
     "data": {
      "text/plain": [
       "<Figure size 640x480 with 1 Axes>"
      ]
     },
     "metadata": {},
     "output_type": "display_data"
    }
   ],
   "source": [
    "\n",
    "from sklearn import metrics\n",
    "import numpy as np\n",
    "import matplotlib.pyplot as plt\n",
    "\n",
    "plt.figure(1)\n",
    "plt.plot([0, 1], [0, 1], 'k--')\n",
    "plt.title('ROC curve')\n",
    "\n",
    "\n",
    "for name in results.keys():\n",
    "    dataset = results[name]['test']\n",
    "    fpr, tpr, _ = metrics.roc_curve(np.array(dataset['label']), dataset['proba'][:, 1])\n",
    "    auc = metrics.auc(fpr,tpr)\n",
    "    accuracy = accuracy_score(dataset['pred'], dataset['label'])\n",
    "    plt.plot(fpr, tpr, label=name + '. auc='+str(auc)+', accuracy='+str(accuracy))\n",
    "    \n",
    "#     dataset = results[name]['train']\n",
    "#     fpr, tpr, _ = metrics.roc_curve(np.array(dataset['label']), dataset['proba'][:, 1])\n",
    "#     auc = metrics.auc(fpr,tpr)\n",
    "#     accuracy = accuracy_score(dataset['pred'], dataset['label'])\n",
    "#     plt.plot(fpr, tpr, label=name + '. auc='+str(auc)+', accuracy='+str(accuracy))\n",
    "    \n",
    "plt.legend(loc='center left', bbox_to_anchor=(1, 0.5))\n",
    "\n",
    "plt.show()\n"
   ]
  },
  {
   "cell_type": "code",
   "execution_count": null,
   "metadata": {},
   "outputs": [],
   "source": [
    "\n"
   ]
  },
  {
   "cell_type": "code",
   "execution_count": null,
   "metadata": {},
   "outputs": [],
   "source": []
  },
  {
   "cell_type": "code",
   "execution_count": null,
   "metadata": {},
   "outputs": [],
   "source": []
  },
  {
   "cell_type": "code",
   "execution_count": null,
   "metadata": {},
   "outputs": [],
   "source": []
  },
  {
   "cell_type": "code",
   "execution_count": null,
   "metadata": {},
   "outputs": [],
   "source": []
  },
  {
   "cell_type": "code",
   "execution_count": null,
   "metadata": {},
   "outputs": [],
   "source": []
  },
  {
   "cell_type": "code",
   "execution_count": null,
   "metadata": {},
   "outputs": [],
   "source": []
  },
  {
   "cell_type": "code",
   "execution_count": null,
   "metadata": {},
   "outputs": [],
   "source": []
  },
  {
   "cell_type": "code",
   "execution_count": null,
   "metadata": {},
   "outputs": [],
   "source": []
  }
 ],
 "metadata": {
  "kernelspec": {
   "display_name": "Python 3",
   "language": "python",
   "name": "python3"
  },
  "language_info": {
   "codemirror_mode": {
    "name": "ipython",
    "version": 3
   },
   "file_extension": ".py",
   "mimetype": "text/x-python",
   "name": "python",
   "nbconvert_exporter": "python",
   "pygments_lexer": "ipython3",
   "version": "3.6.8"
  }
 },
 "nbformat": 4,
 "nbformat_minor": 2
}
